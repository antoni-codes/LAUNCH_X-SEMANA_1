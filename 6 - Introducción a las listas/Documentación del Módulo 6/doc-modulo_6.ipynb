{
 "cells": [
  {
   "cell_type": "markdown",
   "metadata": {},
   "source": [
    "# Introducción a las Listas\n",
    "Para almacenar varios valores, se utiliza una lista, arreglo o array en Python, esto para evitar el uso de variables por cada valor"
   ]
  },
  {
   "cell_type": "markdown",
   "metadata": {},
   "source": [
    "#### ¿Qué aprenderas?\n",
    "Después de completar este módulo, podrás:\n",
    "\n",
    "- Identificar cuándo usar una lista.\n",
    "- Crear una lista.\n",
    "- Obtener acceso a un elemento determinado de una lista mediante índices.\n",
    "- Insertar elementos al final de una lista. Ordenar y dividir una lista."
   ]
  },
  {
   "cell_type": "markdown",
   "metadata": {},
   "source": [
    "#### Crear una lista\n",
    "Para crear una lista con multiples valores, se crea una variable, donde se agrega cada valor, separados cada uno por comas, y estos encerrados con corchetes ([])"
   ]
  },
  {
   "cell_type": "code",
   "execution_count": 2,
   "metadata": {},
   "outputs": [],
   "source": [
    "planets = [\"Mercury\", \"Venus\", \"Earth\", \"Mars\", \"Jupiter\", \"Saturn\", \"Uranus\", \"Neptune\"]"
   ]
  },
  {
   "cell_type": "markdown",
   "metadata": {},
   "source": [
    "#### Acceder a elementos de la lista por índice | var[0]\n",
    "Para acceder a un elemento en específico, se hace uso del índice/index, este va seguido de la variable en forma de corchetes, y se utiliza un número desde el 0 para marcar la posición del valor. Ejem: \"planets[0]\"  "
   ]
  },
  {
   "cell_type": "code",
   "execution_count": 3,
   "metadata": {},
   "outputs": [
    {
     "name": "stdout",
     "output_type": "stream",
     "text": [
      "The First planet is Mercury\n",
      "The Second planet is Venus\n",
      "The Third planet is Earth\n"
     ]
    }
   ],
   "source": [
    "print(\"The First planet is\", planets[0])\n",
    "print(\"The Second planet is\", planets[1])\n",
    "print(\"The Third planet is\", planets[2])"
   ]
  },
  {
   "cell_type": "markdown",
   "metadata": {},
   "source": [
    "También podemos modificar los valores de una lista, mediante su índice/index, esto se hace asignando un nuevo valor de la misma manera que se asignaría un solo valor a una variable. Ejemplo:"
   ]
  },
  {
   "cell_type": "code",
   "execution_count": 8,
   "metadata": {},
   "outputs": [
    {
     "name": "stdout",
     "output_type": "stream",
     "text": [
      "Mars is also know as Red Planet\n"
     ]
    }
   ],
   "source": [
    "planets[3] = \"Red Planet\"\n",
    "print(\"Mars is also know as\", planets[3])"
   ]
  },
  {
   "cell_type": "markdown",
   "metadata": {},
   "source": [
    "#### Determinar la longitud de una lista | len()\n",
    "Para obtener la longitud o el número de valores en una lista, se usa la función integrada len()"
   ]
  },
  {
   "cell_type": "code",
   "execution_count": 9,
   "metadata": {},
   "outputs": [
    {
     "name": "stdout",
     "output_type": "stream",
     "text": [
      "There are 8 planets in the solar system\n"
     ]
    }
   ],
   "source": [
    "number_of_planets = len(planets)\n",
    "print(\"There are\", number_of_planets, 'planets in the solar system')"
   ]
  },
  {
   "cell_type": "markdown",
   "metadata": {},
   "source": [
    "#### Agregar Valores a listas | .append(value)\n",
    "En python las listas son dinamicas, ósea, se pueden agregar, actualizar y eliminar valores dentro de una lista. Se utiliza el método .append(value)"
   ]
  },
  {
   "cell_type": "code",
   "execution_count": 10,
   "metadata": {},
   "outputs": [
    {
     "name": "stdout",
     "output_type": "stream",
     "text": [
      "There are actually 9 planets in the solar system.\n"
     ]
    }
   ],
   "source": [
    "# El código siguiente agrega la cadena \"Pluto\" al \"FINAL\" de la lista planets:\n",
    "planets.append('Pluto')\n",
    "number_of_planets = len(planets)\n",
    "print(\"There are actually\", number_of_planets, \"planets in the solar system.\")"
   ]
  },
  {
   "cell_type": "markdown",
   "metadata": {},
   "source": [
    "#### Eliminar Valores de una Lista | .pop()\n",
    "Para eliminar el último elemento de una lista, se utiliza el método .pop()"
   ]
  },
  {
   "cell_type": "code",
   "execution_count": 11,
   "metadata": {},
   "outputs": [
    {
     "name": "stdout",
     "output_type": "stream",
     "text": [
      "No, there are definitely 8 planets in the solar system.\n"
     ]
    }
   ],
   "source": [
    "planets.pop() #Goodbye, Pluto\n",
    "number_of_planets = len(planets)\n",
    "print(\"No, there are definitely\", number_of_planets, \"planets in the solar system.\")"
   ]
  },
  {
   "cell_type": "markdown",
   "metadata": {},
   "source": [
    "#### Índices negativos\n",
    "En los indices negativos, contrario a los que inician desde cero [0], estos incian de atrás hacía adelante [-1] (devuelve el último valor de una lista)"
   ]
  },
  {
   "cell_type": "code",
   "execution_count": 14,
   "metadata": {},
   "outputs": [
    {
     "name": "stdout",
     "output_type": "stream",
     "text": [
      "The last planet is Neptune\n",
      "The penultimate planet is Uranus\n"
     ]
    }
   ],
   "source": [
    "print(\"The last planet is\", planets[-1])\n",
    "print(\"The penultimate planet is\", planets[-2])"
   ]
  },
  {
   "cell_type": "markdown",
   "metadata": {},
   "source": [
    "#### Buscar un valor en una lista | .index()\n",
    "Este método busca el valor y devuelve el índice de ese elemento en la lista. Si no encuentra una coincidencia devuelve (-1)"
   ]
  },
  {
   "cell_type": "code",
   "execution_count": 16,
   "metadata": {},
   "outputs": [
    {
     "name": "stdout",
     "output_type": "stream",
     "text": [
      "Jupiter is the 5 planet from the sun\n"
     ]
    }
   ],
   "source": [
    "jupiter_index = planets.index('Jupiter')\n",
    "print(\"Jupiter is the\", jupiter_index + 1, \"planet from the sun\")"
   ]
  },
  {
   "cell_type": "markdown",
   "metadata": {},
   "source": [
    "## Trabajar con números en listas"
   ]
  },
  {
   "cell_type": "markdown",
   "metadata": {},
   "source": [
    "#### Almacenar números en listas"
   ]
  },
  {
   "cell_type": "code",
   "execution_count": null,
   "metadata": {},
   "outputs": [],
   "source": [
    "gravity_on_earth = 1.0\n",
    "gravity_on_moon = 0.166"
   ]
  },
  {
   "cell_type": "code",
   "execution_count": 19,
   "metadata": {},
   "outputs": [],
   "source": [
    "# Lista de fuerzas G en planetas\n",
    "gravity_on_planets = [0.378, 0.907, 1, 0.379, 2.36, 0.916, 0.889, 1.12]"
   ]
  },
  {
   "cell_type": "markdown",
   "metadata": {},
   "source": [
    "En la tierra, un autobús de dos pisos pesa 12,650 Kilogramos (kg), que es 12.65 toneladas. En Mercurio, donde la gravedad es de 0,378 G, el mismo autobús pesa 12.65 toneladas multiplicadas por 0.378."
   ]
  },
  {
   "cell_type": "code",
   "execution_count": 20,
   "metadata": {},
   "outputs": [
    {
     "name": "stdout",
     "output_type": "stream",
     "text": [
      "On Earth a double-decker buse weighs 12650 Kg\n",
      "On Mercury, a double-decker buse weighs 4781.7 Kg\n"
     ]
    }
   ],
   "source": [
    "bus_weight = 12650 # In Kilograms on Earth\n",
    "\n",
    "print(\"On Earth a double-decker buse weighs\", bus_weight, \"Kg\")\n",
    "print(\"On Mercury, a double-decker buse weighs\", bus_weight * gravity_on_planets[0], \"Kg\")"
   ]
  },
  {
   "cell_type": "markdown",
   "metadata": {},
   "source": [
    "#### min() & max() con listas\n",
    "Python nos permite calcular y conocer los números más grandes y más pequeños de una lista. La función max() devuelve el número más grande, y la función min() devuelve el número más pequeño"
   ]
  },
  {
   "cell_type": "code",
   "execution_count": 23,
   "metadata": {},
   "outputs": [
    {
     "name": "stdout",
     "output_type": "stream",
     "text": [
      "On Earth, a double-decker bus weighs 12650 Kg\n",
      "The lightest a bus would be in the solar system is 4781.7 Kg\n",
      "The heaviest a bus would be in the solar system is 29854.0 Kg\n"
     ]
    }
   ],
   "source": [
    "# El siguiente código calcula los pesos mínimos y máximos en el sistema solar mediante el uso de esas funciones:\n",
    "bus_weight = 12650 # in kilograms, on Earth, this\n",
    "\n",
    "print(\"On Earth, a double-decker bus weighs\", bus_weight, \"Kg\")\n",
    "print(\"The lightest a bus would be in the solar system is\", bus_weight * min(gravity_on_planets), \"Kg\")\n",
    "print(\"The heaviest a bus would be in the solar system is\", bus_weight * max(gravity_on_planets), \"Kg\")"
   ]
  },
  {
   "cell_type": "markdown",
   "metadata": {},
   "source": [
    "## Manipular Datos de Lista\n",
    "Python proporciona un soporte sólido para trabajar con los datos en las listas. Este soporte inclye el slicing (Examinando solo una parte) y el sorting"
   ]
  },
  {
   "cell_type": "markdown",
   "metadata": {},
   "source": [
    "#### Slice List\n",
    "Puede recuperar un fragmento o rango de una lista mediante un slice(Entendemos slice como una porción, un pedacito, un fragmento, segmento).\n",
    "Slice utiliza corchetes ([]), pero en lugar de un solo elemento, tiene los índices INICIAL y FINAL (x:y) de los elementos que queremos recuperar.\n",
    "Cuando se utiliza slice, se crea una lista que comienza en el índice inicial y que termina antes(y no incluye) el índice final."
   ]
  },
  {
   "cell_type": "code",
   "execution_count": 24,
   "metadata": {},
   "outputs": [
    {
     "name": "stdout",
     "output_type": "stream",
     "text": [
      "['Mercury', 'Venus']\n"
     ]
    }
   ],
   "source": [
    "# La lista ede planetas tiene ocho elementos. La Tierra es la tercera en la lista. Para obtener los planetas antes que la tierra, use un slice\n",
    "# para obtener elementos que comienzan en 0 y terminan en 2:\n",
    "\n",
    "planets = [\"Mercury\", \"Venus\", \"Earth\", \"Mars\", \"Jupiter\", \"Saturn\", \"Uranus\", \"Neptune\"]\n",
    "\n",
    "planets_before_earth = planets[0:2]\n",
    "print(planets_before_earth)"
   ]
  },
  {
   "cell_type": "markdown",
   "metadata": {},
   "source": [
    "Observa como la Tierra no está incluida en la lista. La razón es que el índice termina antes que el índice final"
   ]
  },
  {
   "cell_type": "markdown",
   "metadata": {},
   "source": [
    "Planetas después de la tierra, comenzaos en el tercero y vamos al octavo:"
   ]
  },
  {
   "cell_type": "code",
   "execution_count": 25,
   "metadata": {},
   "outputs": [
    {
     "name": "stdout",
     "output_type": "stream",
     "text": [
      "['Mars', 'Jupiter', 'Saturn', 'Uranus', 'Neptune']\n"
     ]
    }
   ],
   "source": [
    "planets_after_earth = planets[3:8]\n",
    "print(planets_after_earth)"
   ]
  },
  {
   "cell_type": "markdown",
   "metadata": {},
   "source": [
    "En este ejemplo se muestra neptuno. La razón es que el índice para Neptuno es 7, por que la indexación comienza en 0. Debido a que el índice final era 8, inluye el último valor. Si NO se coloca el índice de detención en el slice, Python asume que deseas ir al final de la lista:"
   ]
  },
  {
   "cell_type": "code",
   "execution_count": 27,
   "metadata": {},
   "outputs": [
    {
     "name": "stdout",
     "output_type": "stream",
     "text": [
      "['Mars', 'Jupiter', 'Saturn', 'Uranus', 'Neptune']\n"
     ]
    }
   ],
   "source": [
    "planets_after_earth = planets[3:]\n",
    "print(planets_after_earth)"
   ]
  },
  {
   "cell_type": "markdown",
   "metadata": {},
   "source": [
    "Un \"Slice\" crear una NUEVA lista. No modifica la lista actual"
   ]
  },
  {
   "cell_type": "markdown",
   "metadata": {},
   "source": [
    "#### Uniendo Listas | Operador +\n",
    "Contrario a Slices, podemos unir dos listas, con el operador matemático (+), lo cual devuelve una nueva lista."
   ]
  },
  {
   "cell_type": "markdown",
   "metadata": {},
   "source": [
    "Ejemplo: Hay 79 lunas conocidas de Júpiter. Las cuatro más grandes son Io, Europa, Ganímedes y Calisto. Estas se llaman las lunas galileanas, porque Galileo Galilei las descubrió usando su telescopio en 1610. Más cerca de Júpiter que del grupo galileo está el grupo de Amaltea. Consiste en las lunas Metis, Adrastea, Amaltea y Teba."
   ]
  },
  {
   "cell_type": "code",
   "execution_count": 28,
   "metadata": {},
   "outputs": [
    {
     "name": "stdout",
     "output_type": "stream",
     "text": [
      "['Metis', 'Adrastea', 'Amaltea', 'Teba', 'Europa', 'Genímedes', 'Calisto']\n"
     ]
    }
   ],
   "source": [
    "amalthea_group = [\"Metis\", \"Adrastea\", \"Amaltea\", \"Teba\"]\n",
    "galilelo_group = [\"Europa\", \"Genímedes\", \"Calisto\"]\n",
    "\n",
    "print(amalthea_group + galilelo_group)"
   ]
  },
  {
   "cell_type": "markdown",
   "metadata": {},
   "source": [
    "Al unir las listas, se crea una nueva lista. No se modifica la lista actual"
   ]
  },
  {
   "cell_type": "markdown",
   "metadata": {},
   "source": [
    "#### Ordenar Listas | sort()\n",
    "Para ordenar una lista, hacemos uso del método sort(). Esta ordenara una lista de cadenas en orden alfabético y una lista de números en orden númerico"
   ]
  },
  {
   "cell_type": "code",
   "execution_count": 30,
   "metadata": {},
   "outputs": [
    {
     "name": "stdout",
     "output_type": "stream",
     "text": [
      "The Regular Satellite moons of jupiter are ['Adrastea', 'Amaltea', 'Calisto', 'Europa', 'Genímedes', 'Metis', 'Teba']\n"
     ]
    }
   ],
   "source": [
    "regular_satellite_moons = amalthea_group + galilelo_group\n",
    "regular_satellite_moons.sort()\n",
    "\n",
    "print(\"The Regular Satellite moons of jupiter are\", regular_satellite_moons)"
   ]
  },
  {
   "cell_type": "markdown",
   "metadata": {},
   "source": [
    "Para ordenar una lista, de forma inversa, llamamos al argumento .sort(reverse = True) de la lista"
   ]
  },
  {
   "cell_type": "code",
   "execution_count": 31,
   "metadata": {},
   "outputs": [
    {
     "name": "stdout",
     "output_type": "stream",
     "text": [
      "The regular satellite moons of Jupiter are ['Teba', 'Metis', 'Genímedes', 'Europa', 'Calisto', 'Amaltea', 'Adrastea']\n"
     ]
    }
   ],
   "source": [
    "regular_satellite_moons.sort(reverse = True)\n",
    "print(\"The regular satellite moons of Jupiter are\", regular_satellite_moons)"
   ]
  }
 ],
 "metadata": {
  "interpreter": {
   "hash": "085635c7bab703e7bb5a41fe64c7278518d529ae783e191374674f75ba478b45"
  },
  "kernelspec": {
   "display_name": "Python 3.10.2 64-bit",
   "language": "python",
   "name": "python3"
  },
  "language_info": {
   "codemirror_mode": {
    "name": "ipython",
    "version": 3
   },
   "file_extension": ".py",
   "mimetype": "text/x-python",
   "name": "python",
   "nbconvert_exporter": "python",
   "pygments_lexer": "ipython3",
   "version": "3.10.2"
  },
  "orig_nbformat": 4
 },
 "nbformat": 4,
 "nbformat_minor": 2
}
