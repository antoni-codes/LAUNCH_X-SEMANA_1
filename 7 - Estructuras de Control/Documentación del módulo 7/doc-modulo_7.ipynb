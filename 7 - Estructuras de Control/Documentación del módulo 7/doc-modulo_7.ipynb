{
 "cells": [
  {
   "cell_type": "markdown",
   "metadata": {},
   "source": [
    "# Módulo 7 - Estructuras de Control\n",
    "En programación podemos trabajar tareas repetitivas. A menudo tendrás que recorrer en ciclo, secuencias de valores, como lo son las cadenas(String), números(int, float), y objectos(Objects). Para realizar estos recorridos repetidos, python nos ofrece los ciclo \"while\" & \"for\""
   ]
  },
  {
   "cell_type": "markdown",
   "metadata": {},
   "source": [
    "#### ¿Qué se aprendera?\n"
   ]
  },
  {
   "cell_type": "markdown",
   "metadata": {},
   "source": [
    "    Podrás entender:\n",
    "        - Identificar cuando se deben usar los ciclos while y for.\n",
    "        - Ejecutar una tarea varías veces mediante ciclos while.\n",
    "        - Recorrer en ciclo los datos de la lista mediante ciclos for."
   ]
  },
  {
   "cell_type": "markdown",
   "metadata": {},
   "source": [
    "#### Acerca de los ciclos while\n",
    "Un ciclo while \"realiza una operación mientras(while) una determinada condición es true\". Funciona para evaluar si hay otra línea en un archivo, si se ha establecido una marca, si un usuario ha terminado de escribri valores o bien ha cambiado algo más para idnicar que el código puede dejar de realizar operación."
   ]
  },
  {
   "cell_type": "markdown",
   "metadata": {},
   "source": [
    "Es importante recordar que al crear ciclos while, se debe aegurar que que cambia la condición. Si la condición siempre es True, python seguirá ejecutando el código hasta que el programa se bloquee o detenga."
   ]
  },
  {
   "cell_type": "markdown",
   "metadata": {},
   "source": [
    "La sintaxis de un ciclo While es similar a la condición if, este tiene una condición, así como el bloque de código que quieres ejecutar y/o repetir mientras la condición sea True (Se cumpla o sea verdadera)."
   ]
  },
  {
   "cell_type": "markdown",
   "metadata": {},
   "source": [
    "    Un ciclo while, tiene tres partes importantes:\n",
    "        -La palabra while, seguida de un espacio.\n",
    "        -La condición que se va a probar. Si la condición es true, se ejecutará el bloque de código dentro del ciclo while.\n",
    "        -El bloque de código que quiere ejecutar para cada elemento del objeto iterable, seguido de espacios en blanco anidados. por ejemplo:"
   ]
  },
  {
   "cell_type": "code",
   "execution_count": null,
   "metadata": {},
   "outputs": [],
   "source": [
    "# while condition:\n",
    "    # Lo que quiere que se ejecute"
   ]
  },
  {
   "cell_type": "markdown",
   "metadata": {},
   "source": [
    "    Se lee de la siguiente manera: Mientras el código se cumpla: Ejecuta el código"
   ]
  },
  {
   "cell_type": "code",
   "execution_count": 3,
   "metadata": {},
   "outputs": [],
   "source": [
    "## Ejemplo: Código para pedir a los usuarios que escriban valores y, después, permitirles \n",
    "## usar \"done\", cuando terminen de escribir los valores. Usaremos la entrada de usuario \n",
    "## como condición y después la probaremos al principio del ciclo while.\n",
    "\n",
    "user_input = \"\"\n",
    "\n",
    "while user_input.lower() != \"done\":\n",
    "    user_input = input(\"Enter a new Value, or write done when done\")"
   ]
  },
  {
   "cell_type": "markdown",
   "metadata": {},
   "source": [
    "Leemos el código línea por línea, el texto en párentesis hace referencia del código que describimos."
   ]
  },
  {
   "cell_type": "markdown",
   "metadata": {},
   "source": [
    "-Definimos la variable user_input (Para guardar lo que el usuario va a escribir)mientras\n",
    "\n",
    "-(while) lo que el usuario escriba(user_input), convertido a minúsculas(.lower()) sea diferente de (!=) la palabra \n",
    "    'done' quiero que: \n",
    "\n",
    "-Guardes en la variable user_input(user_input =), lo que el usuario escriba (input), muestra un texto de ejemplo para\n",
    "    el usuario('Enter a new value, or done when done')."
   ]
  },
  {
   "cell_type": "markdown",
   "metadata": {},
   "source": [
    "Si se quiere agregar los valores a una lista, puedas usar el código similar el ejemplo siguiente"
   ]
  },
  {
   "cell_type": "code",
   "execution_count": 5,
   "metadata": {},
   "outputs": [],
   "source": [
    "# Creamos la variable que almacena el texto\n",
    "user_input = \"\"\n",
    "# Creamos la lista que almacena cada uno de los textos que el usuario ingresa\n",
    "inputs = []\n",
    "\n",
    "# Ciclo While\n",
    "while user_input.lower() != \"done\":\n",
    "    # Verificamos si hay un valor en user_input\n",
    "    if user_input:\n",
    "        # Almacenamos ese valor al final de la lista\n",
    "        inputs.append(user_input)\n",
    "    # Capturamos un nuevo valor\n",
    "    user_input = input(\"Enter a new value, or write done when done\")"
   ]
  },
  {
   "cell_type": "markdown",
   "metadata": {},
   "source": [
    "Observa la instrucción if dentro del ciclo while. Esta instrucción prueba si hay un valor de cadena dentro de user_input. Si el ciclo while se ejecuta por primera vez, no hay ningún valor, por lo que no hay nada que almacenar en inputs. Después de que se ejecute por primera vez, user_input siempre conserva el valor que el usuario acaba de escribir. Dado que while está probando para asegurarse de que el valor no es igual a done (la palabra que el usuario escribirá para salir de la aplicación), sabe que el valor actual es uno que puede agregar a la lista."
   ]
  },
  {
   "cell_type": "markdown",
   "metadata": {},
   "source": [
    "#### Uso de Ciclos For con Listas"
   ]
  },
  {
   "cell_type": "markdown",
   "metadata": {},
   "source": [
    "En Python, las listas pueden almacenar cualquier tipo de valor, como cadenas o números. Ejemplo:"
   ]
  },
  {
   "cell_type": "code",
   "execution_count": 6,
   "metadata": {},
   "outputs": [],
   "source": [
    "planets = [\"Mercury\", \"Venus\", \"Earth\", \"Mars\", \"Jupiter\", \"Saturn\", \"Uranus\", \"Neptune\"]"
   ]
  },
  {
   "cell_type": "markdown",
   "metadata": {},
   "source": [
    "Puedes acceder a cualquier elemento de una lista poniendo el índice entre corchetes ([]) después del nombre de la variable. Los índices comienzan apartir de [0]"
   ]
  },
  {
   "cell_type": "code",
   "execution_count": 8,
   "metadata": {},
   "outputs": [
    {
     "name": "stdout",
     "output_type": "stream",
     "text": [
      "The first planet is Venus\n",
      "The second planets is Earth\n",
      "The third planets is Mars\n"
     ]
    }
   ],
   "source": [
    "print(\"The first planet is\", planets[1])\n",
    "print(\"The second planets is\", planets[2])\n",
    "print(\"The third planets is\", planets[3])"
   ]
  },
  {
   "cell_type": "markdown",
   "metadata": {},
   "source": [
    "Tambíen puede determinar el número de elementos de una lista mediante el método \"len\". Por lo tanto podría usar un ciclo while y un contador para recorrer en ciclo o en iteración cada elemento de la lista. Dat que se trata de una operación tan común, Python proporciona ciclos fro, que puedes usar para recorrer en iteración las listas."
   ]
  },
  {
   "cell_type": "markdown",
   "metadata": {},
   "source": [
    "Python tiene muchos tipos que se pueden recorrer. Estos tipos se conocen como iterables"
   ]
  },
  {
   "cell_type": "markdown",
   "metadata": {},
   "source": [
    "Las listas de Python son iterables y se pueden usar con un ciclo for. Se usa un ciclo for con objetos que van a recorrer un ciclo un número conocido de veces, una vez para cada elemento del objeto iterable."
   ]
  },
  {
   "cell_type": "markdown",
   "metadata": {},
   "source": [
    "#### Acerca de los ciclos for\n",
    "Este es un ciclo for de ejemplo que hace una cuenta atrás, de 4 a 0:"
   ]
  },
  {
   "cell_type": "code",
   "execution_count": 11,
   "metadata": {},
   "outputs": [
    {
     "name": "stdout",
     "output_type": "stream",
     "text": [
      "5\n",
      "4\n",
      "3\n",
      "2\n",
      "1\n",
      "0\n",
      "Blast off!! 🚀\n"
     ]
    }
   ],
   "source": [
    "countdown = [5, 4, 3, 2, 1, 0]\n",
    "\n",
    "for number in countdown:\n",
    "    print(number)\n",
    "print(\"Blast off!! 🚀\")"
   ]
  },
  {
   "cell_type": "markdown",
   "metadata": {},
   "source": [
    "    El ciclo for es una instrucción en cinco partes importantes:\n",
    "        -La palabra reservada \"for\", seguida de un espacio.\n",
    "        -El nombre de la variable que quieres crear para cada valor de la secuencia (number).\n",
    "        -La palabra \"in\", entre espacios.\n",
    "        -El nombre de la lista (countdown, en el ejemplo anterior) u objeto iterable que quieras recorrer en ciclo, seguido de dos puntos(:).\n",
    "        -El código que quieres ejecutar para cada elemento del objeto iterable, separado por espacios en blanco anidados."
   ]
  },
  {
   "cell_type": "markdown",
   "metadata": {},
   "source": [
    "Vamos a cambiar el código anterior para que espere un segundo entre cada número mediante la función sleep()"
   ]
  },
  {
   "cell_type": "code",
   "execution_count": 15,
   "metadata": {},
   "outputs": [
    {
     "name": "stdout",
     "output_type": "stream",
     "text": [
      "5\n",
      "4\n",
      "3\n",
      "2\n",
      "1\n",
      "0\n",
      "Blast Off 🚀\n"
     ]
    }
   ],
   "source": [
    "# De la biblioteca time, importamos(traemos) la clase sleep\n",
    "from time import sleep\n",
    "\n",
    "# Creamos una lista de 5 números llamada countdown\n",
    "countdown = [5, 4, 3, 2, 1, 0]\n",
    "\n",
    "# Para cada numero en countdown\n",
    "for number in countdown:\n",
    "    print(number)\n",
    "\n",
    "    # Espera (1 Segundo)\n",
    "    sleep(1)\n",
    "# Muestra el mensaje blast off\n",
    "print(\"Blast Off 🚀\")"
   ]
  },
  {
   "cell_type": "markdown",
   "metadata": {},
   "source": [
    "### Resumen"
   ]
  },
  {
   "cell_type": "markdown",
   "metadata": {},
   "source": [
    "En este módulo, hemos creado una aplicación que solicita a los usuarios que escriban una lista de nombres de planetas, los almacenan y, después, los muestran.\n",
    "\n",
    "Dado que no sabíamos cuántos planetas escribirían los usuarios, usamos un ciclo while. Los ciclos while se usan para ejecutar un bloque de código mientras una condición es True.\n",
    "\n",
    "Hemos almacenado cada nombre del planeta en una lista.\n",
    "\n",
    "Después de crear la lista de planetas, usamos un ciclo for para recorrerla en iteración. Los ciclos for se usan con listas y otros objetos iterables para ejecutar código un número conocido de veces, una por cada elemento de la lista de nombres de planetas.\n",
    "\n",
    "En este módulo, has aprendido a:\n",
    "\n",
    "Identificar cuándo usar un ciclo while o uno for.\n",
    "Usar un ciclo while para ejecutar una tarea varias veces, siempre y cuando una condición determinada siga siendo True.\n",
    "Usar un ciclo for para recorrer en ciclo los datos de la lista."
   ]
  }
 ],
 "metadata": {
  "interpreter": {
   "hash": "085635c7bab703e7bb5a41fe64c7278518d529ae783e191374674f75ba478b45"
  },
  "kernelspec": {
   "display_name": "Python 3.10.2 64-bit",
   "language": "python",
   "name": "python3"
  },
  "language_info": {
   "codemirror_mode": {
    "name": "ipython",
    "version": 3
   },
   "file_extension": ".py",
   "mimetype": "text/x-python",
   "name": "python",
   "nbconvert_exporter": "python",
   "pygments_lexer": "ipython3",
   "version": "3.10.2"
  },
  "orig_nbformat": 4
 },
 "nbformat": 4,
 "nbformat_minor": 2
}
